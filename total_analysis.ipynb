{
  "nbformat": 4,
  "nbformat_minor": 0,
  "metadata": {
    "colab": {
      "name": "total_analysis.ipynb",
      "provenance": [],
      "collapsed_sections": [],
      "include_colab_link": true
    },
    "kernelspec": {
      "name": "python3",
      "display_name": "Python 3"
    },
    "accelerator": "GPU"
  },
  "cells": [
    {
      "cell_type": "markdown",
      "metadata": {
        "id": "view-in-github",
        "colab_type": "text"
      },
      "source": [
        "<a href=\"https://colab.research.google.com/github/suyeon-9706/TrendWithSNS/blob/suyeon/total_analysis.ipynb\" target=\"_parent\"><img src=\"https://colab.research.google.com/assets/colab-badge.svg\" alt=\"Open In Colab\"/></a>"
      ]
    },
    {
      "cell_type": "code",
      "metadata": {
        "id": "iZwxvt6S1fpG",
        "colab_type": "code",
        "outputId": "6b046cc7-33b5-4bfe-fe50-61a61d375647",
        "colab": {
          "base_uri": "https://localhost:8080/",
          "height": 125
        }
      },
      "source": [
        "# colab에서 코드 돌림(google drive에서 data 가져옴)\n",
        "from google.colab import drive\n",
        "drive.mount('/content/drive')"
      ],
      "execution_count": 0,
      "outputs": [
        {
          "output_type": "stream",
          "text": [
            "Go to this URL in a browser: https://accounts.google.com/o/oauth2/auth?client_id=947318989803-6bn6qk8qdgf4n4g3pfee6491hc0brc4i.apps.googleusercontent.com&redirect_uri=urn%3Aietf%3Awg%3Aoauth%3A2.0%3Aoob&scope=email%20https%3A%2F%2Fwww.googleapis.com%2Fauth%2Fdocs.test%20https%3A%2F%2Fwww.googleapis.com%2Fauth%2Fdrive%20https%3A%2F%2Fwww.googleapis.com%2Fauth%2Fdrive.photos.readonly%20https%3A%2F%2Fwww.googleapis.com%2Fauth%2Fpeopleapi.readonly&response_type=code\n",
            "\n",
            "Enter your authorization code:\n",
            "··········\n",
            "Mounted at /content/drive\n"
          ],
          "name": "stdout"
        }
      ]
    },
    {
      "cell_type": "code",
      "metadata": {
        "id": "eZdV6r2Ur817",
        "colab_type": "code",
        "colab": {}
      },
      "source": [
        "# 모든 팀의 좋아요 증가율\n",
        "total_avg = {}"
      ],
      "execution_count": 0,
      "outputs": []
    },
    {
      "cell_type": "code",
      "metadata": {
        "id": "IF-6GqwX1qB-",
        "colab_type": "code",
        "colab": {}
      },
      "source": [
        "# 모든 데이터 다 불러오기\n",
        "import os\n",
        "import json\n",
        "\n",
        "# 팀: GenG\n",
        "geng_dic = {} # 딕셔너리\n",
        "geng_key = [] # 리스트\n",
        "\n",
        "for root, dirs, files in os.walk('/content/drive/My Drive/grad_data/data/data/GenG'):\n",
        "    for fname in files:\n",
        "      if fname.endswith(\".json\"): #끝이 \".json\"로 끝나는 경우\n",
        "        full_fname = os.path.join(root, fname)\n",
        "        geng_key.append(fname)\n",
        "        \n",
        "        with open(full_fname) as json_file:\n",
        "          json_data = json.load(json_file)\n",
        "          geng_dic[fname] = json_data\n",
        "        \n",
        "geng_key.sort() #  리스트 오름차순 정렬"
      ],
      "execution_count": 0,
      "outputs": []
    },
    {
      "cell_type": "code",
      "metadata": {
        "id": "s-vMmkDm17lL",
        "colab_type": "code",
        "outputId": "2757f358-0e8c-4101-b839-6f85ff51c9b3",
        "colab": {
          "base_uri": "https://localhost:8080/",
          "height": 386
        }
      },
      "source": [
        "import datetime\n",
        "import matplotlib.pyplot as plt\n",
        "import matplotlib.dates as mdates\n",
        "\n",
        "geng_total_likes = []\n",
        "geng_convert_time = []\n",
        "geng_length = []\n",
        "\n",
        "for name in geng_key:\n",
        "  values = geng_dic[name]['results'][0]['series'][0]['values']\n",
        "  \n",
        "  # total_likes: 주어진 데이터의 2번째 value들\n",
        "  length = len(values)  \n",
        "  geng_length.append(length)\n",
        "  print(name,\":\",length)\n",
        "  for i in range(0,length):\n",
        "      geng_total_likes.append(values[i][2])\n",
        "  \n",
        "  # conver_times: 주어진 데이터의 0번째 value들\n",
        "  for i in range(0, length):\n",
        "      geng_convert_time.append(datetime.datetime.strptime(values[i][0][:19],\"%Y-%m-%dT%H:%M:%S\"))    "
      ],
      "execution_count": 0,
      "outputs": [
        {
          "output_type": "stream",
          "text": [
            "GenG_20190605.json : 12\n",
            "GenG_20190606.json : 12\n",
            "GenG_20190607.json : 12\n",
            "GenG_20190608.json : 12\n",
            "GenG_20190609.json : 12\n",
            "GenG_20190610.json : 12\n",
            "GenG_20190611.json : 12\n",
            "GenG_20190612.json : 45\n",
            "GenG_20190613.json : 144\n",
            "GenG_20190614.json : 144\n",
            "GenG_20190615.json : 144\n",
            "GenG_20190616.json : 144\n",
            "GenG_20190620.json : 730\n",
            "GenG_20190623.json : 437\n",
            "GenG_20190625.json : 437\n",
            "GenG_20190626.json : 437\n",
            "GenG_20190630.json : 437\n",
            "GenG_20190701.json : 437\n",
            "GenG_20190703.json : 437\n",
            "GenG_20190705.json : 437\n",
            "GenG_20190706.json : 437\n"
          ],
          "name": "stdout"
        }
      ]
    },
    {
      "cell_type": "code",
      "metadata": {
        "id": "Yzzgt5GoCIn-",
        "colab_type": "code",
        "colab": {}
      },
      "source": [
        "# total_likes2 = total_likes의 차이값들(하루 단위)\n",
        "geng_total_likes2 = []\n",
        "geng_differences = []\n",
        "geng_date = []\n",
        "for name in geng_key:\n",
        "  values = geng_dic[name]['results'][0]['series'][0]['values']\n",
        "  length = len(values)  \n",
        "  geng_total_likes2.append(values[length-1][2])\n",
        "  geng_date.append(datetime.datetime.strptime(values[0][0][:10],\"%Y-%m-%d\"))    \n",
        "\n",
        "for i in range(0,len(geng_date)-1):\n",
        "  geng_differences.append(geng_total_likes2[i+1]-geng_total_likes2[i])"
      ],
      "execution_count": 0,
      "outputs": []
    },
    {
      "cell_type": "code",
      "metadata": {
        "id": "X-phe8sJCL6H",
        "colab_type": "code",
        "outputId": "fa46b65d-601b-4769-9fe2-b7d9ad42eb2e",
        "colab": {
          "base_uri": "https://localhost:8080/",
          "height": 774
        }
      },
      "source": [
        "# 시간에 따른 total likes 값들 시각화\n",
        "fig = plt.figure()\n",
        "ax = plt.subplot(1, 1, 1)\n",
        "\n",
        "plt.plot(geng_convert_time, geng_total_likes)\n",
        "plt.title('GenG')\n",
        "plt.xlabel('Time')\n",
        "plt.ylabel('Total Likes')\n",
        "for label in ax.xaxis.get_ticklabels() :\n",
        "    label.set_rotation(45)\n",
        "plt.gca().xaxis.set_major_formatter(mdates.DateFormatter('%Y-%m-%d'))\n",
        "plt.show()\n",
        "\n",
        "# 시간에 따른 total likes 차이값들 시각화(막대그래프)\n",
        "fig = plt.figure()\n",
        "ax = plt.subplot(1, 1, 1)\n",
        "\n",
        "bar_graph = plt.bar(geng_date[1:], geng_differences, align='edge', edgecolor='black')\n",
        "plt.title('GenG')\n",
        "plt.xlabel('Date')\n",
        "plt.ylabel('Difference of Likes')\n",
        "for label in ax.xaxis.get_ticklabels() :\n",
        "    label.set_rotation(45)\n",
        "plt.gca().xaxis.set_major_formatter(mdates.DateFormatter('%Y-%m-%d'))\n",
        "ax.set_axisbelow(True)\n",
        "plt.grid(True)\n",
        "plt.show()"
      ],
      "execution_count": 0,
      "outputs": [
        {
          "output_type": "stream",
          "text": [
            "/usr/local/lib/python3.6/dist-packages/pandas/plotting/_matplotlib/converter.py:103: FutureWarning: Using an implicitly registered datetime converter for a matplotlib plotting method. The converter was registered by pandas on import. Future versions of pandas will require you to explicitly register matplotlib converters.\n",
            "\n",
            "To register the converters:\n",
            "\t>>> from pandas.plotting import register_matplotlib_converters\n",
            "\t>>> register_matplotlib_converters()\n",
            "  warnings.warn(msg, FutureWarning)\n"
          ],
          "name": "stderr"
        },
        {
          "output_type": "display_data",
          "data": {
            "image/png": "[encoded data removed]",
            "text/plain": [
              "<Figure size 432x288 with 1 Axes>"
            ]
          },
          "metadata": {
            "tags": []
          }
        },
        {
          "output_type": "display_data",
          "data": {
            "image/png": "[encoded data removed]",
            "text/plain": [
              "<Figure size 432x288 with 1 Axes>"
            ]
          },
          "metadata": {
            "tags": []
          }
        }
      ]
    },
    {
      "cell_type": "code",
      "metadata": {
        "id": "jFGW6-_lAOoE",
        "colab_type": "code",
        "outputId": "c4d3b6e1-e6c8-403f-e0fc-e20b9cc75cc4",
        "colab": {
          "base_uri": "https://localhost:8080/",
          "height": 34
        }
      },
      "source": [
        "# 좋아요 증가율 구하기\n",
        "import numpy as np\n",
        "\n",
        "average = []\n",
        "sum = 0\n",
        "\n",
        "for i in geng_length:\n",
        "  sum = sum+i\n",
        "  avg = (geng_total_likes[sum-1] - geng_total_likes[sum-i])/(geng_convert_time[sum-1] - geng_convert_time[sum-i]).seconds*60\n",
        "  average.append(avg)\n",
        "\n",
        "geng_avg = np.mean(average)\n",
        "total_avg['GenG'] = geng_avg\n",
        "print(\"GenG 좋아요 증가율:\", geng_avg)"
      ],
      "execution_count": 0,
      "outputs": [
        {
          "output_type": "stream",
          "text": [
            "GenG 좋아요 증가율: 0.19293688352608956\n"
          ],
          "name": "stdout"
        }
      ]
    },
    {
      "cell_type": "code",
      "metadata": {
        "id": "jjSbMSIT7m9Z",
        "colab_type": "code",
        "colab": {}
      },
      "source": [
        "# 팀: Griffin\n",
        "gri_dic = {} # 딕셔너리\n",
        "gri_key = [] # 리스트\n",
        "\n",
        "for root, dirs, files in os.walk('/content/drive/My Drive/grad_data/data/data/Griffin'):\n",
        "    for fname in files:\n",
        "      if fname.endswith(\".json\"): #끝이 \".json\"로 끝나는 경우\n",
        "        full_fname = os.path.join(root, fname)\n",
        "        gri_key.append(fname)\n",
        "        \n",
        "        with open(full_fname) as json_file:\n",
        "          json_data = json.load(json_file)\n",
        "          gri_dic[fname] = json_data\n",
        "      \n",
        "gri_key.sort() #  리스트 오름차순 정렬"
      ],
      "execution_count": 0,
      "outputs": []
    },
    {
      "cell_type": "code",
      "metadata": {
        "id": "S8rDBZaBV2C6",
        "colab_type": "code",
        "outputId": "2384117c-ffd6-4f98-ce35-2acba28015c3",
        "colab": {
          "base_uri": "https://localhost:8080/",
          "height": 175
        }
      },
      "source": [
        "gri_total_likes = []\n",
        "gri_convert_time = []\n",
        "gri_length = []\n",
        "\n",
        "for name in gri_key:\n",
        "  values = gri_dic[name]['results'][0]['series'][0]['values']\n",
        "  \n",
        "  # total_likes: 주어진 데이터의 2번째 value들\n",
        "  length = len(values)\n",
        "  gri_length.append(length)\n",
        "  print(name,\":\", length)\n",
        "  for i in range(0,length):\n",
        "      gri_total_likes.append(values[i][2])\n",
        "  \n",
        "  # conver_times: 주어진 데이터의 0번째 value들\n",
        "  for i in range(0, length):\n",
        "      gri_convert_time.append(datetime.datetime.strptime(values[i][0][:19],\"%Y-%m-%dT%H:%M:%S\"))"
      ],
      "execution_count": 0,
      "outputs": [
        {
          "output_type": "stream",
          "text": [
            "Griffin_20190605.json : 12\n",
            "Griffin_20190606.json : 12\n",
            "Griffin_20190607.json : 12\n",
            "Griffin_20190608.json : 12\n",
            "Griffin_20190609.json : 12\n",
            "Griffin_20190610.json : 12\n",
            "Griffin_20190611.json : 12\n",
            "Griffin_20190612.json : 45\n",
            "Griffin_20190613.json : 144\n"
          ],
          "name": "stdout"
        }
      ]
    },
    {
      "cell_type": "code",
      "metadata": {
        "id": "I8dHBlC2Veig",
        "colab_type": "code",
        "colab": {}
      },
      "source": [
        "# total_likes2 = total_likes의 차이값들(하루 단위)\n",
        "gri_total_likes2 = []\n",
        "gri_differences = []\n",
        "gri_date = []\n",
        "for name in gri_key:\n",
        "  values = gri_dic[name]['results'][0]['series'][0]['values']\n",
        "  length = len(values)  \n",
        "  gri_total_likes2.append(values[length-1][2])\n",
        "  gri_date.append(datetime.datetime.strptime(values[0][0][:10],\"%Y-%m-%d\"))    \n",
        "\n",
        "for i in range(0,len(gri_date)-1):\n",
        "  gri_differences.append(gri_total_likes2[i+1]-gri_total_likes2[i])"
      ],
      "execution_count": 0,
      "outputs": []
    },
    {
      "cell_type": "code",
      "metadata": {
        "id": "BTRENPgFZSfv",
        "colab_type": "code",
        "outputId": "8911e5cd-a596-4f3f-d044-42e74f1b8618",
        "colab": {
          "base_uri": "https://localhost:8080/",
          "height": 649
        }
      },
      "source": [
        "# 시간에 따른 total likes 값들 시각화\n",
        "fig = plt.figure()\n",
        "ax = plt.subplot(1, 1, 1)\n",
        "\n",
        "plt.plot(gri_convert_time, gri_total_likes)\n",
        "plt.title('Griffin')\n",
        "plt.xlabel('Time')\n",
        "plt.ylabel('Total Likes')\n",
        "for label in ax.xaxis.get_ticklabels() :\n",
        "    label.set_rotation(45)\n",
        "plt.gca().xaxis.set_major_formatter(mdates.DateFormatter('%Y-%m-%d'))\n",
        "plt.show()\n",
        "\n",
        "# 시간에 따른 total likes 차이값들 시각화(막대그래프)\n",
        "fig = plt.figure()\n",
        "ax = plt.subplot(1, 1, 1)\n",
        "\n",
        "bar_graph = plt.bar(gri_date[1:], gri_differences, align='edge', edgecolor='black')\n",
        "plt.title('Griffin')\n",
        "plt.xlabel('Date')\n",
        "plt.ylabel('Difference of Likes')\n",
        "for label in ax.xaxis.get_ticklabels() :\n",
        "    label.set_rotation(45)\n",
        "plt.gca().xaxis.set_major_formatter(mdates.DateFormatter('%Y-%m-%d'))\n",
        "ax.set_axisbelow(True)\n",
        "plt.grid(True)\n",
        "plt.show()    "
      ],
      "execution_count": 0,
      "outputs": [
        {
          "output_type": "display_data",
          "data": {
            "image/png": "[encoded data removed]",
            "text/plain": [
              "<Figure size 432x288 with 1 Axes>"
            ]
          },
          "metadata": {
            "tags": []
          }
        },
        {
          "output_type": "display_data",
          "data": {
            "image/png": "[encoded data removed]",
            "text/plain": [
              "<Figure size 432x288 with 1 Axes>"
            ]
          },
          "metadata": {
            "tags": []
          }
        }
      ]
    },
    {
      "cell_type": "code",
      "metadata": {
        "id": "KbcYyEM3kHuR",
        "colab_type": "code",
        "outputId": "e4e416c4-2892-4ae3-a1a9-1b7c13ebe83e",
        "colab": {
          "base_uri": "https://localhost:8080/",
          "height": 34
        }
      },
      "source": [
        "average = []\n",
        "sum = 0\n",
        "\n",
        "for i in gri_length:\n",
        "  sum = sum+i\n",
        "  avg = (gri_total_likes[sum-1] - gri_total_likes[sum-i])/(gri_convert_time[sum-1] - gri_convert_time[sum-i]).seconds*60\n",
        "  average.append(avg)\n",
        "\n",
        "gri_avg = np.mean(average)\n",
        "total_avg['Griffin'] = gri_avg\n",
        "print(\"Griffin 좋아요 증가율:\", gri_avg)"
      ],
      "execution_count": 0,
      "outputs": [
        {
          "output_type": "stream",
          "text": [
            "Griffin 좋아요 증가율: 0.26635559729037617\n"
          ],
          "name": "stdout"
        }
      ]
    },
    {
      "cell_type": "code",
      "metadata": {
        "id": "WDyWZoSjZWx2",
        "colab_type": "code",
        "colab": {}
      },
      "source": [
        "# 팀: JinAirGW\n",
        "jin_dic = {} # 딕셔너리\n",
        "jin_key = [] # 리스트\n",
        "\n",
        "for root, dirs, files in os.walk('/content/drive/My Drive/grad_data/data/data/JinAirGW'):\n",
        "    for fname in files:\n",
        "      if fname.endswith(\".json\"): #끝이 \".json\"로 끝나는 경우\n",
        "        full_fname = os.path.join(root, fname)\n",
        "        jin_key.append(fname)\n",
        "        \n",
        "        with open(full_fname) as json_file:\n",
        "          json_data = json.load(json_file)\n",
        "          jin_dic[fname] = json_data\n",
        "      \n",
        "jin_key.sort() #  리스트 오름차순 정렬"
      ],
      "execution_count": 0,
      "outputs": []
    },
    {
      "cell_type": "code",
      "metadata": {
        "id": "OifU-c6LWwsV",
        "colab_type": "code",
        "outputId": "6b764840-91ff-49fd-f523-e7072f7181f8",
        "colab": {
          "base_uri": "https://localhost:8080/",
          "height": 457
        }
      },
      "source": [
        "jin_total_likes = []\n",
        "jin_convert_time = []\n",
        "jin_length = []\n",
        "\n",
        "for name in jin_key:\n",
        "  values = jin_dic[name]['results'][0]['series'][0]['values']\n",
        "  \n",
        "  # total_likes: 주어진 데이터의 2번째 value들\n",
        "  length = len(values)\n",
        "  jin_length.append(length)\n",
        "  print(name, \":\", length)\n",
        "  for i in range(0,length):\n",
        "      jin_total_likes.append(values[i][2])\n",
        "  \n",
        "  # conver_times: 주어진 데이터의 0번째 value들\n",
        "  for i in range(0, length):\n",
        "      jin_convert_time.append(datetime.datetime.strptime(values[i][0][:19],\"%Y-%m-%dT%H:%M:%S\"))    "
      ],
      "execution_count": 0,
      "outputs": [
        {
          "output_type": "stream",
          "text": [
            "JinAirGW_20190605.json : 12\n",
            "JinAirGW_20190606.json : 12\n",
            "JinAirGW_20190607.json : 12\n",
            "JinAirGW_20190608.json : 12\n",
            "JinAirGW_20190609.json : 12\n",
            "JinAirGW_20190611.json : 12\n",
            "JinAirGW_20190612.json : 45\n",
            "JinAirGW_20190613.json : 144\n",
            "JinAirGW_20190614.json : 144\n",
            "JinAirGW_20190616.json : 144\n",
            "JinAirGW_20190617.json : 144\n",
            "JinAirGW_20190618.json : 144\n",
            "JinAirGW_20190619.json : 144\n",
            "JinAirGW_20190620.json : 730\n",
            "JinAirGW_20190621.json : 437\n",
            "JinAirGW_20190622.json : 437\n",
            "JinAirGW_20190623.json : 437\n",
            "JinAirGW_20190624.json : 437\n",
            "JinAirGW_20190626.json : 437\n",
            "JinAirGW_20190627.json : 437\n",
            "JinAirGW_20190628.json : 437\n",
            "JinAirGW_20190629.json : 437\n",
            "JinAirGW_20190630.json : 436\n",
            "JinAirGW_20190701.json : 437\n",
            "JinAirGW_20190704.json : 437\n"
          ],
          "name": "stdout"
        }
      ]
    },
    {
      "cell_type": "code",
      "metadata": {
        "id": "brbtTXGiWxgz",
        "colab_type": "code",
        "colab": {}
      },
      "source": [
        "# total_likes2 = total_likes의 차이값들(하루 단위)\n",
        "jin_total_likes2 = []\n",
        "jin_differences = []\n",
        "jin_date = []\n",
        "for name in jin_key:\n",
        "  values = jin_dic[name]['results'][0]['series'][0]['values']\n",
        "  length = len(values)  \n",
        "  jin_total_likes2.append(values[length-1][2])\n",
        "  jin_date.append(datetime.datetime.strptime(values[0][0][:10],\"%Y-%m-%d\"))    \n",
        "\n",
        "for i in range(0,len(jin_date)-1):\n",
        "  jin_differences.append(jin_total_likes2[i+1]-jin_total_likes2[i])"
      ],
      "execution_count": 0,
      "outputs": []
    },
    {
      "cell_type": "code",
      "metadata": {
        "id": "QZrlBp2VZ_0H",
        "colab_type": "code",
        "outputId": "afb2951d-15a9-4f20-b2d4-4be4b7dd23e2",
        "colab": {
          "base_uri": "https://localhost:8080/",
          "height": 649
        }
      },
      "source": [
        "# 시간에 따른 total likes 값들 시각화\n",
        "fig = plt.figure()\n",
        "ax = plt.subplot(1, 1, 1)\n",
        "\n",
        "plt.plot(jin_convert_time, jin_total_likes)\n",
        "plt.title('JinAirGW')\n",
        "plt.xlabel('Time')\n",
        "plt.ylabel('Total Likes')\n",
        "for label in ax.xaxis.get_ticklabels() :\n",
        "    label.set_rotation(45)\n",
        "plt.gca().xaxis.set_major_formatter(mdates.DateFormatter('%Y-%m-%d'))\n",
        "plt.show()\n",
        "\n",
        "# 시간에 따른 total likes 차이값들 시각화(막대그래프)\n",
        "fig = plt.figure()\n",
        "ax = plt.subplot(1, 1, 1)\n",
        "\n",
        "bar_graph = plt.bar(jin_date[1:], jin_differences, align='edge', edgecolor='black')\n",
        "plt.title('JinAirGW')\n",
        "plt.xlabel('Date')\n",
        "plt.ylabel('Difference of Likes')\n",
        "for label in ax.xaxis.get_ticklabels() :\n",
        "    label.set_rotation(45)\n",
        "plt.gca().xaxis.set_major_formatter(mdates.DateFormatter('%Y-%m-%d'))\n",
        "ax.set_axisbelow(True)\n",
        "plt.grid(True)\n",
        "plt.show()    "
      ],
      "execution_count": 0,
      "outputs": [
        {
          "output_type": "display_data",
          "data": {
            "image/png": "[encoded data removed]",
            "text/plain": [
              "<Figure size 432x288 with 1 Axes>"
            ]
          },
          "metadata": {
            "tags": []
          }
        },
        {
          "output_type": "display_data",
          "data": {
            "image/png": "[encoded data removed]",
            "text/plain": [
              "<Figure size 432x288 with 1 Axes>"
            ]
          },
          "metadata": {
            "tags": []
          }
        }
      ]
    },
    {
      "cell_type": "code",
      "metadata": {
        "id": "yBHeE1vik3ff",
        "colab_type": "code",
        "outputId": "186024ed-e1c7-4ccc-996d-2d42f7fed808",
        "colab": {
          "base_uri": "https://localhost:8080/",
          "height": 34
        }
      },
      "source": [
        "average = []\n",
        "sum = 0\n",
        "\n",
        "for i in jin_length:\n",
        "  sum = sum+i\n",
        "  avg = (jin_total_likes[sum-1] - jin_total_likes[sum-i])/(jin_convert_time[sum-1] - jin_convert_time[sum-i]).seconds*60\n",
        "  average.append(avg)\n",
        "\n",
        "jin_avg = np.mean(average)\n",
        "total_avg['JinAirGW'] = jin_avg\n",
        "print(\"JinAirGW 좋아요 증가율:\",jin_avg)"
      ],
      "execution_count": 0,
      "outputs": [
        {
          "output_type": "stream",
          "text": [
            "JinAirGW 좋아요 증가율: 0.04235120226826675\n"
          ],
          "name": "stdout"
        }
      ]
    },
    {
      "cell_type": "code",
      "metadata": {
        "id": "9WfV9NHmaPTN",
        "colab_type": "code",
        "colab": {}
      },
      "source": [
        "# 팀: KINGZONEDX\n",
        "king_dic = {} # 딕셔너리\n",
        "king_key = [] # 리스트\n",
        "\n",
        "for root, dirs, files in os.walk('/content/drive/My Drive/grad_data/data/data/KINGZONEDX'):\n",
        "    for fname in files:\n",
        "      if fname.endswith(\".json\"): #끝이 \".json\"로 끝나는 경우\n",
        "        full_fname = os.path.join(root, fname)\n",
        "        king_key.append(fname)\n",
        "        \n",
        "        with open(full_fname) as json_file:\n",
        "          json_data = json.load(json_file)\n",
        "          king_dic[fname] = json_data\n",
        "        \n",
        "king_key.sort() #  리스트 오름차순 정렬"
      ],
      "execution_count": 0,
      "outputs": []
    },
    {
      "cell_type": "code",
      "metadata": {
        "id": "uXdKtK6dXvpW",
        "colab_type": "code",
        "outputId": "ffe07604-8b85-4ca6-e5ce-0143ec2d558a",
        "colab": {
          "base_uri": "https://localhost:8080/",
          "height": 492
        }
      },
      "source": [
        "king_total_likes = []\n",
        "king_convert_time = []\n",
        "king_length = []\n",
        "\n",
        "for name in king_key:\n",
        "  values = king_dic[name]['results'][0]['series'][0]['values']\n",
        "  \n",
        "  # total_likes: 주어진 데이터의 2번째 value들\n",
        "  length = len(values)\n",
        "  king_length.append(length)\n",
        "  print(name, \":\", length)\n",
        "  for i in range(0,length):\n",
        "      king_total_likes.append(values[i][2])\n",
        "  \n",
        "  # conver_times: 주어진 데이터의 0번째 value들\n",
        "  for i in range(0, length):\n",
        "      king_convert_time.append(datetime.datetime.strptime(values[i][0][:19],\"%Y-%m-%dT%H:%M:%S\"))    "
      ],
      "execution_count": 0,
      "outputs": [
        {
          "output_type": "stream",
          "text": [
            "KINGZONEDX_20190605.json : 12\n",
            "KINGZONEDX_20190606.json : 12\n",
            "KINGZONEDX_20190607.json : 12\n",
            "KINGZONEDX_20190608.json : 12\n",
            "KINGZONEDX_20190609.json : 12\n",
            "KINGZONEDX_20190610.json : 12\n",
            "KINGZONEDX_20190611.json : 12\n",
            "KINGZONEDX_20190612.json : 45\n",
            "KINGZONEDX_20190613.json : 144\n",
            "KINGZONEDX_20190614.json : 144\n",
            "KINGZONEDX_20190615.json : 144\n",
            "KINGZONEDX_20190616.json : 144\n",
            "KINGZONEDX_20190617.json : 144\n",
            "KINGZONEDX_20190618.json : 144\n",
            "KINGZONEDX_20190619.json : 144\n",
            "KINGZONEDX_20190620.json : 730\n",
            "KINGZONEDX_20190621.json : 437\n",
            "KINGZONEDX_20190622.json : 437\n",
            "KINGZONEDX_20190623.json : 437\n",
            "KINGZONEDX_20190625.json : 437\n",
            "KINGZONEDX_20190628.json : 437\n",
            "KINGZONEDX_20190630.json : 437\n",
            "KINGZONEDX_20190702.json : 437\n",
            "KINGZONEDX_20190703.json : 437\n",
            "KINGZONEDX_20190704.json : 437\n",
            "KINGZONEDX_20190705.json : 437\n",
            "KINGZONEDX_20190706.json : 437\n"
          ],
          "name": "stdout"
        }
      ]
    },
    {
      "cell_type": "code",
      "metadata": {
        "id": "Ue0ZYL0sX1dn",
        "colab_type": "code",
        "colab": {}
      },
      "source": [
        "# total_likes2 = total_likes의 차이값들(하루 단위)\n",
        "king_total_likes2 = []\n",
        "king_differences = []\n",
        "king_date = []\n",
        "for name in king_key:\n",
        "  values = king_dic[name]['results'][0]['series'][0]['values']\n",
        "  length = len(values)  \n",
        "  king_total_likes2.append(values[length-1][2])\n",
        "  king_date.append(datetime.datetime.strptime(values[0][0][:10],\"%Y-%m-%d\"))    \n",
        "\n",
        "for i in range(0,len(king_date)-1):\n",
        "  king_differences.append(king_total_likes2[i+1]-king_total_likes2[i])"
      ],
      "execution_count": 0,
      "outputs": []
    },
    {
      "cell_type": "code",
      "metadata": {
        "id": "5tnziT6dcMFv",
        "colab_type": "code",
        "outputId": "c0ddb9aa-10ec-4110-fa04-973dbe058be7",
        "colab": {
          "base_uri": "https://localhost:8080/",
          "height": 649
        }
      },
      "source": [
        "# 시간에 따른 total likes 값들 시각화\n",
        "fig = plt.figure()\n",
        "ax = plt.subplot(1, 1, 1)\n",
        "\n",
        "plt.plot(king_convert_time, king_total_likes)\n",
        "plt.title('KINGZONEDX')\n",
        "plt.xlabel('Time')\n",
        "plt.ylabel('Total Likes')\n",
        "for label in ax.xaxis.get_ticklabels() :\n",
        "    label.set_rotation(45)\n",
        "plt.gca().xaxis.set_major_formatter(mdates.DateFormatter('%Y-%m-%d'))\n",
        "plt.show()\n",
        "\n",
        "# 시간에 따른 total likes 차이값들 시각화(막대그래프)\n",
        "fig = plt.figure()\n",
        "ax = plt.subplot(1, 1, 1)\n",
        "\n",
        "bar_graph = plt.bar(king_date[1:], king_differences, align='edge', edgecolor='black')\n",
        "plt.title('KINGZONEDX')\n",
        "plt.xlabel('Date')\n",
        "plt.ylabel('Difference of Likes')\n",
        "for label in ax.xaxis.get_ticklabels() :\n",
        "    label.set_rotation(45)\n",
        "plt.gca().xaxis.set_major_formatter(mdates.DateFormatter('%Y-%m-%d'))\n",
        "ax.set_axisbelow(True)\n",
        "plt.grid(True)\n",
        "plt.show()"
      ],
      "execution_count": 0,
      "outputs": [
        {
          "output_type": "display_data",
          "data": {
            "image/png": "[encoded data removed]",
            "text/plain": [
              "<Figure size 432x288 with 1 Axes>"
            ]
          },
          "metadata": {
            "tags": []
          }
        },
        {
          "output_type": "display_data",
          "data": {
            "image/png": "[encoded data removed]",
            "text/plain": [
              "<Figure size 432x288 with 1 Axes>"
            ]
          },
          "metadata": {
            "tags": []
          }
        }
      ]
    },
    {
      "cell_type": "code",
      "metadata": {
        "id": "3o45I302oswH",
        "colab_type": "code",
        "outputId": "6a646229-8947-4ece-f919-079295bb3a06",
        "colab": {
          "base_uri": "https://localhost:8080/",
          "height": 34
        }
      },
      "source": [
        "average = []\n",
        "sum = 0\n",
        "\n",
        "for i in king_length:\n",
        "  sum = sum+i\n",
        "  avg = (king_total_likes[sum-1] - king_total_likes[sum-i])/(king_convert_time[sum-1] - king_convert_time[sum-i]).seconds*60\n",
        "  average.append(avg)\n",
        "\n",
        "king_avg = np.mean(average)\n",
        "total_avg['KINGZONEDX'] = king_avg\n",
        "print(\"KINGZONEDX 좋아요 증가율:\",king_avg)"
      ],
      "execution_count": 0,
      "outputs": [
        {
          "output_type": "stream",
          "text": [
            "KINGZONEDX 좋아요 증가율: 0.09574563202732521\n"
          ],
          "name": "stdout"
        }
      ]
    },
    {
      "cell_type": "code",
      "metadata": {
        "id": "ynV4XDvZc1Ps",
        "colab_type": "code",
        "colab": {}
      },
      "source": [
        "# 팀: SBGaming_KOR\n",
        "sb_dic = {} # 딕셔너리\n",
        "sb_key = [] # 리스트\n",
        "\n",
        "for root, dirs, files in os.walk('/content/drive/My Drive/grad_data/data/data/SBGaming_KOR'):\n",
        "    for fname in files:\n",
        "      if fname.endswith(\".json\"): #끝이 \".json\"로 끝나는 경우\n",
        "        full_fname = os.path.join(root, fname)\n",
        "        sb_key.append(fname)\n",
        "        \n",
        "        with open(full_fname) as json_file:\n",
        "          json_data = json.load(json_file)\n",
        "          sb_dic[fname] = json_data\n",
        "      \n",
        "sb_key.sort() #  리스트 오름차순 정렬"
      ],
      "execution_count": 0,
      "outputs": []
    },
    {
      "cell_type": "code",
      "metadata": {
        "id": "nFNILoTlYLaT",
        "colab_type": "code",
        "outputId": "67f2e80d-1895-4414-b8b9-5dbcd1f437ba",
        "colab": {
          "base_uri": "https://localhost:8080/",
          "height": 316
        }
      },
      "source": [
        "sb_total_likes = []\n",
        "sb_convert_time = []\n",
        "sb_length = []\n",
        "\n",
        "for name in sb_key:\n",
        "  values = sb_dic[name]['results'][0]['series'][0]['values']\n",
        "  \n",
        "  # total_likes: 주어진 데이터의 2번째 value들\n",
        "  length = len(values)\n",
        "  sb_length.append(length)\n",
        "  print(name, \":\", length)\n",
        "  for i in range(0,length):\n",
        "      sb_total_likes.append(values[i][2])\n",
        "  \n",
        "  # conver_times: 주어진 데이터의 0번째 value들\n",
        "  for i in range(0, length):\n",
        "      sb_convert_time.append(datetime.datetime.strptime(values[i][0][:19],\"%Y-%m-%dT%H:%M:%S\"))  "
      ],
      "execution_count": 0,
      "outputs": [
        {
          "output_type": "stream",
          "text": [
            "SBGaming_KOR_20190605.json : 12\n",
            "SBGaming_KOR_20190606.json : 12\n",
            "SBGaming_KOR_20190607.json : 12\n",
            "SBGaming_KOR_20190608.json : 12\n",
            "SBGaming_KOR_20190609.json : 12\n",
            "SBGaming_KOR_20190610.json : 12\n",
            "SBGaming_KOR_20190612.json : 45\n",
            "SBGaming_KOR_20190613.json : 144\n",
            "SBGaming_KOR_20190614.json : 144\n",
            "SBGaming_KOR_20190615.json : 144\n",
            "SBGaming_KOR_20190617.json : 144\n",
            "SBGaming_KOR_20190618.json : 144\n",
            "SBGaming_KOR_20190619.json : 144\n",
            "SBGaming_KOR_20190623.json : 437\n",
            "SBGaming_KOR_20190626.json : 437\n",
            "SBGaming_KOR_20190627.json : 437\n",
            "SBGaming_KOR_20190629.json : 437\n"
          ],
          "name": "stdout"
        }
      ]
    },
    {
      "cell_type": "code",
      "metadata": {
        "id": "2uENTtEQYOzW",
        "colab_type": "code",
        "colab": {}
      },
      "source": [
        "# total_likes2 = total_likes의 차이값들(하루 단위)\n",
        "sb_total_likes2 = []\n",
        "sb_differences = []\n",
        "sb_date = []\n",
        "for name in sb_key:\n",
        "  values = sb_dic[name]['results'][0]['series'][0]['values']\n",
        "  length = len(values)  \n",
        "  sb_total_likes2.append(values[length-1][2])\n",
        "  sb_date.append(datetime.datetime.strptime(values[0][0][:10],\"%Y-%m-%d\"))    \n",
        "\n",
        "for i in range(0,len(sb_date)-1):\n",
        "  sb_differences.append(sb_total_likes2[i+1]-sb_total_likes2[i])"
      ],
      "execution_count": 0,
      "outputs": []
    },
    {
      "cell_type": "code",
      "metadata": {
        "id": "5haD2lxQd2Mf",
        "colab_type": "code",
        "outputId": "056b8358-cc8e-401a-a603-cc98d5d82e16",
        "colab": {
          "base_uri": "https://localhost:8080/",
          "height": 649
        }
      },
      "source": [
        "# 시간에 따른 total likes 값들 시각화\n",
        "fig = plt.figure()\n",
        "ax = plt.subplot(1, 1, 1)\n",
        "\n",
        "plt.plot(sb_convert_time, sb_total_likes)\n",
        "plt.title('SBGaming_KOR')\n",
        "plt.xlabel('Time')\n",
        "plt.ylabel('Total Likes')\n",
        "for label in ax.xaxis.get_ticklabels() :\n",
        "    label.set_rotation(45)\n",
        "plt.gca().xaxis.set_major_formatter(mdates.DateFormatter('%Y-%m-%d'))\n",
        "plt.show()\n",
        "\n",
        "# 시간에 따른 total likes 차이값들 시각화(막대그래프)\n",
        "fig = plt.figure()\n",
        "ax = plt.subplot(1, 1, 1)\n",
        "\n",
        "bar_graph = plt.bar(sb_date[1:], sb_differences, align='edge', edgecolor='black')\n",
        "plt.title('SBGaming_KOR')\n",
        "plt.xlabel('Date')\n",
        "plt.ylabel('Difference of Likes')\n",
        "for label in ax.xaxis.get_ticklabels() :\n",
        "    label.set_rotation(45)\n",
        "plt.gca().xaxis.set_major_formatter(mdates.DateFormatter('%Y-%m-%d'))\n",
        "ax.set_axisbelow(True)\n",
        "plt.grid(True)\n",
        "plt.show()"
      ],
      "execution_count": 0,
      "outputs": [
        {
          "output_type": "display_data",
          "data": {
            "image/png": "[encoded data removed]",
            "text/plain": [
              "<Figure size 432x288 with 1 Axes>"
            ]
          },
          "metadata": {
            "tags": []
          }
        },
        {
          "output_type": "display_data",
          "data": {
            "image/png": "[encoded data removed]",
            "text/plain": [
              "<Figure size 432x288 with 1 Axes>"
            ]
          },
          "metadata": {
            "tags": []
          }
        }
      ]
    },
    {
      "cell_type": "code",
      "metadata": {
        "id": "1WNoij8Mpu5B",
        "colab_type": "code",
        "outputId": "c608c201-c29f-42c9-f61c-d42119e20059",
        "colab": {
          "base_uri": "https://localhost:8080/",
          "height": 34
        }
      },
      "source": [
        "average = []\n",
        "sum = 0\n",
        "\n",
        "for i in sb_length:\n",
        "  sum = sum+i\n",
        "  avg = (sb_total_likes[sum-1] - sb_total_likes[sum-i])/(sb_convert_time[sum-1] - sb_convert_time[sum-i]).seconds*60\n",
        "  average.append(avg)\n",
        "\n",
        "sb_avg = np.mean(average)\n",
        "total_avg['SBGaming_KOR'] = sb_avg\n",
        "print(\"SBGaming_KOR 좋아요 증가율:\",sb_avg)"
      ],
      "execution_count": 0,
      "outputs": [
        {
          "output_type": "stream",
          "text": [
            "SBGaming_KOR 좋아요 증가율: 0.05264825335736596\n"
          ],
          "name": "stdout"
        }
      ]
    },
    {
      "cell_type": "code",
      "metadata": {
        "id": "vNwQU6gneE3L",
        "colab_type": "code",
        "colab": {}
      },
      "source": [
        "# 팀: T1LoL\n",
        "t1_dic = {} # 딕셔너리\n",
        "t1_key = [] # 리스트\n",
        "\n",
        "for root, dirs, files in os.walk('/content/drive/My Drive/grad_data/data/data/T1LoL'):\n",
        "    for fname in files:\n",
        "      if fname.endswith(\".json\"): #끝이 \".json\"로 끝나는 경우\n",
        "        full_fname = os.path.join(root, fname)\n",
        "        t1_key.append(fname)\n",
        "        \n",
        "        with open(full_fname) as json_file:\n",
        "          json_data = json.load(json_file)\n",
        "          t1_dic[fname] = json_data\n",
        "        \n",
        "t1_key.sort() #  리스트 오름차순 정렬"
      ],
      "execution_count": 0,
      "outputs": []
    },
    {
      "cell_type": "code",
      "metadata": {
        "id": "rx1DvlXYYjBF",
        "colab_type": "code",
        "outputId": "c344cecb-31be-46ef-9c53-063bc331810f",
        "colab": {
          "base_uri": "https://localhost:8080/",
          "height": 474
        }
      },
      "source": [
        "t1_total_likes = []\n",
        "t1_convert_time = []\n",
        "t1_length = []\n",
        "\n",
        "for name in t1_key:\n",
        "  values = t1_dic[name]['results'][0]['series'][0]['values']\n",
        "    \n",
        "  # total_likes: 주어진 데이터의 2번째 value들\n",
        "  length = len(values)\n",
        "  t1_length.append(length)\n",
        "  print(name,\":\",length)\n",
        "  for i in range(0,length):\n",
        "      t1_total_likes.append(values[i][2])\n",
        "  \n",
        "  # conver_times: 주어진 데이터의 0번째 value들\n",
        "  for i in range(0, length):\n",
        "      t1_convert_time.append(datetime.datetime.strptime(values[i][0][:19],\"%Y-%m-%dT%H:%M:%S\"))    "
      ],
      "execution_count": 0,
      "outputs": [
        {
          "output_type": "stream",
          "text": [
            "T1LoL_20190605.json : 12\n",
            "T1LoL_20190606.json : 12\n",
            "T1LoL_20190607.json : 12\n",
            "T1LoL_20190608.json : 12\n",
            "T1LoL_20190609.json : 12\n",
            "T1LoL_20190610.json : 12\n",
            "T1LoL_20190611.json : 12\n",
            "T1LoL_20190612.json : 45\n",
            "T1LoL_20190613.json : 144\n",
            "T1LoL_20190614.json : 144\n",
            "T1LoL_20190615.json : 144\n",
            "T1LoL_20190616.json : 144\n",
            "T1LoL_20190617.json : 144\n",
            "T1LoL_20190618.json : 144\n",
            "T1LoL_20190619.json : 144\n",
            "T1LoL_20190620.json : 730\n",
            "T1LoL_20190621.json : 437\n",
            "T1LoL_20190622.json : 437\n",
            "T1LoL_20190623.json : 437\n",
            "T1LoL_20190624.json : 437\n",
            "T1LoL_20190625.json : 437\n",
            "T1LoL_20190627.json : 437\n",
            "T1LoL_20190628.json : 437\n",
            "T1LoL_20190629.json : 437\n",
            "T1LoL_20190630.json : 437\n",
            "T1LoL_20190703.json : 437\n"
          ],
          "name": "stdout"
        }
      ]
    },
    {
      "cell_type": "code",
      "metadata": {
        "id": "6rR9LOQnYkw6",
        "colab_type": "code",
        "colab": {}
      },
      "source": [
        "# total_likes2 = total_likes의 차이값들(하루 단위)\n",
        "t1_total_likes2 = []\n",
        "t1_differences = []\n",
        "t1_date = []\n",
        "for name in t1_key:\n",
        "  values = t1_dic[name]['results'][0]['series'][0]['values']\n",
        "  length = len(values)  \n",
        "  t1_total_likes2.append(values[length-1][2])\n",
        "  t1_date.append(datetime.datetime.strptime(values[0][0][:10],\"%Y-%m-%d\"))    \n",
        "\n",
        "for i in range(0,len(t1_date)-1):\n",
        "  t1_differences.append(t1_total_likes2[i+1]-t1_total_likes2[i])"
      ],
      "execution_count": 0,
      "outputs": []
    },
    {
      "cell_type": "code",
      "metadata": {
        "id": "W6mdZckTgM_s",
        "colab_type": "code",
        "outputId": "ff2c2c45-eb08-4fcc-94db-ab9a0afde716",
        "colab": {
          "base_uri": "https://localhost:8080/",
          "height": 649
        }
      },
      "source": [
        "# 시간에 따른 total likes 값들 시각화\n",
        "fig = plt.figure()\n",
        "ax = plt.subplot(1, 1, 1)\n",
        "\n",
        "plt.plot(t1_convert_time, t1_total_likes)\n",
        "plt.title('T1LoL')\n",
        "plt.xlabel('Time')\n",
        "plt.ylabel('Total Likes')\n",
        "for label in ax.xaxis.get_ticklabels() :\n",
        "    label.set_rotation(45)\n",
        "plt.gca().xaxis.set_major_formatter(mdates.DateFormatter('%Y-%m-%d'))\n",
        "plt.show()\n",
        "\n",
        "# 시간에 따른 total likes 차이값들 시각화(막대그래프)\n",
        "fig = plt.figure()\n",
        "ax = plt.subplot(1, 1, 1)\n",
        "\n",
        "bar_graph = plt.bar(t1_date[1:], t1_differences, align='edge', edgecolor='black')\n",
        "plt.title('T1LoL')\n",
        "plt.xlabel('Date')\n",
        "plt.ylabel('Difference of Likes')\n",
        "for label in ax.xaxis.get_ticklabels() :\n",
        "    label.set_rotation(45)\n",
        "plt.gca().xaxis.set_major_formatter(mdates.DateFormatter('%Y-%m-%d'))\n",
        "ax.set_axisbelow(True)\n",
        "plt.grid(True)\n",
        "plt.show()"
      ],
      "execution_count": 0,
      "outputs": [
        {
          "output_type": "display_data",
          "data": {
            "image/png": "[encoded data removed]",
            "text/plain": [
              "<Figure size 432x288 with 1 Axes>"
            ]
          },
          "metadata": {
            "tags": []
          }
        },
        {
          "output_type": "display_data",
          "data": {
            "image/png": "[encoded data removed]",
            "text/plain": [
              "<Figure size 432x288 with 1 Axes>"
            ]
          },
          "metadata": {
            "tags": []
          }
        }
      ]
    },
    {
      "cell_type": "code",
      "metadata": {
        "id": "VIT4QmPEqJKt",
        "colab_type": "code",
        "outputId": "1de82b2b-3d8c-4287-8de7-daeb33352f7a",
        "colab": {
          "base_uri": "https://localhost:8080/",
          "height": 34
        }
      },
      "source": [
        "average = []\n",
        "sum = 0\n",
        "\n",
        "for i in t1_length:\n",
        "  sum = sum+i\n",
        "  avg = (t1_total_likes[sum-1] - t1_total_likes[sum-i])/(t1_convert_time[sum-1] - t1_convert_time[sum-i]).seconds*60\n",
        "  average.append(avg)\n",
        "\n",
        "t1_avg = np.mean(average)\n",
        "total_avg['T1LoL'] = t1_avg\n",
        "print(\"T1LoL 좋아요 증가율:\",t1_avg)"
      ],
      "execution_count": 0,
      "outputs": [
        {
          "output_type": "stream",
          "text": [
            "T1LoL 좋아요 증가율: 0.940677685848136\n"
          ],
          "name": "stdout"
        }
      ]
    },
    {
      "cell_type": "code",
      "metadata": {
        "id": "yQXWkbkvgeE8",
        "colab_type": "code",
        "colab": {}
      },
      "source": [
        "# 팀: faker\n",
        "faker_dic = {} # 딕셔너리\n",
        "faker_key = [] # 리스트\n",
        "\n",
        "for root, dirs, files in os.walk('/content/drive/My Drive/grad_data/data/data/faker'):\n",
        "    for fname in files:\n",
        "      if fname.endswith(\".json\"): #끝이 \".json\"로 끝나는 경우\n",
        "        full_fname = os.path.join(root, fname)\n",
        "        faker_key.append(fname)\n",
        "        \n",
        "        with open(full_fname) as json_file:\n",
        "          json_data = json.load(json_file)\n",
        "          faker_dic[fname] = json_data\n",
        "        \n",
        "faker_key.sort() #  리스트 오름차순 정렬"
      ],
      "execution_count": 0,
      "outputs": []
    },
    {
      "cell_type": "code",
      "metadata": {
        "id": "WaDfhsxiY9Ra",
        "colab_type": "code",
        "outputId": "0b1d0d58-eb02-4e48-f27a-c961b5e98f3b",
        "colab": {
          "base_uri": "https://localhost:8080/",
          "height": 334
        }
      },
      "source": [
        "faker_total_likes = []\n",
        "faker_convert_time = []\n",
        "faker_length = []\n",
        "\n",
        "for name in faker_key:\n",
        "  values = faker_dic[name]['results'][0]['series'][0]['values']\n",
        "  \n",
        "  # total_likes: 주어진 데이터의 2번째 value들\n",
        "  length = len(values)\n",
        "  faker_length.append(length)\n",
        "  print(name,\":\",length)\n",
        "  \n",
        "  for i in range(0,length):\n",
        "      faker_total_likes.append(values[i][2])\n",
        "  \n",
        "  # conver_times: 주어진 데이터의 0번째 value들\n",
        "  for i in range(0, length):\n",
        "      faker_convert_time.append(datetime.datetime.strptime(values[i][0][:19],\"%Y-%m-%dT%H:%M:%S\"))   "
      ],
      "execution_count": 0,
      "outputs": [
        {
          "output_type": "stream",
          "text": [
            "faker_20190605.json : 12\n",
            "faker_20190606.json : 12\n",
            "faker_20190607.json : 12\n",
            "faker_20190608.json : 12\n",
            "faker_20190609.json : 12\n",
            "faker_20190610.json : 12\n",
            "faker_20190611.json : 12\n",
            "faker_20190612.json : 45\n",
            "faker_20190615.json : 144\n",
            "faker_20190617.json : 144\n",
            "faker_20190618.json : 144\n",
            "faker_20190619.json : 144\n",
            "faker_20190620.json : 730\n",
            "faker_20190621.json : 437\n",
            "faker_20190622.json : 437\n",
            "faker_20190627.json : 437\n",
            "faker_20190628.json : 436\n",
            "faker_20190629.json : 437\n"
          ],
          "name": "stdout"
        }
      ]
    },
    {
      "cell_type": "code",
      "metadata": {
        "id": "okC8bukkY_Lu",
        "colab_type": "code",
        "colab": {}
      },
      "source": [
        "# total_likes2 = total_likes의 차이값들(하루 단위)\n",
        "faker_total_likes2 = []\n",
        "faker_differences = []\n",
        "faker_date = []\n",
        "for name in faker_key:\n",
        "  values = faker_dic[name]['results'][0]['series'][0]['values']\n",
        "  length = len(values)  \n",
        "  faker_total_likes2.append(values[length-1][2])\n",
        "  faker_date.append(datetime.datetime.strptime(values[0][0][:10],\"%Y-%m-%d\"))    \n",
        "\n",
        "for i in range(0,len(faker_date)-1):\n",
        "  faker_differences.append(faker_total_likes2[i+1]-faker_total_likes2[i])"
      ],
      "execution_count": 0,
      "outputs": []
    },
    {
      "cell_type": "code",
      "metadata": {
        "id": "GHQLxyu4hhPF",
        "colab_type": "code",
        "outputId": "696f9832-0315-4fbd-9659-39dce4da781e",
        "colab": {
          "base_uri": "https://localhost:8080/",
          "height": 649
        }
      },
      "source": [
        "# 시간에 따른 total likes 값들 시각화\n",
        "fig = plt.figure()\n",
        "ax = plt.subplot(1, 1, 1)\n",
        "\n",
        "plt.plot(faker_convert_time, faker_total_likes)\n",
        "plt.title('Faker')\n",
        "plt.xlabel('Time')\n",
        "plt.ylabel('Total Likes')\n",
        "for label in ax.xaxis.get_ticklabels() :\n",
        "    label.set_rotation(45)\n",
        "plt.gca().xaxis.set_major_formatter(mdates.DateFormatter('%Y-%m-%d'))\n",
        "plt.show()\n",
        "\n",
        "# 시간에 따른 total likes 차이값들 시각화(막대그래프)\n",
        "fig = plt.figure()\n",
        "ax = plt.subplot(1, 1, 1)\n",
        "\n",
        "bar_graph = plt.bar(faker_date[1:], faker_differences, align='edge', edgecolor='black')\n",
        "plt.title('Faker')\n",
        "plt.xlabel('Date')\n",
        "plt.ylabel('Difference of Likes')\n",
        "for label in ax.xaxis.get_ticklabels() :\n",
        "    label.set_rotation(45)\n",
        "plt.gca().xaxis.set_major_formatter(mdates.DateFormatter('%Y-%m-%d'))\n",
        "ax.set_axisbelow(True)\n",
        "plt.grid(True)\n",
        "plt.show()"
      ],
      "execution_count": 0,
      "outputs": [
        {
          "output_type": "display_data",
          "data": {
            "image/png": "[encoded data removed]",
            "text/plain": [
              "<Figure size 432x288 with 1 Axes>"
            ]
          },
          "metadata": {
            "tags": []
          }
        },
        {
          "output_type": "display_data",
          "data": {
            "image/png": "[encoded data removed]",
            "text/plain": [
              "<Figure size 432x288 with 1 Axes>"
            ]
          },
          "metadata": {
            "tags": []
          }
        }
      ]
    },
    {
      "cell_type": "code",
      "metadata": {
        "id": "CxeAXcLKqm3w",
        "colab_type": "code",
        "outputId": "f9f86ca3-b051-4c6e-9e22-099d6ca7edd8",
        "colab": {
          "base_uri": "https://localhost:8080/",
          "height": 34
        }
      },
      "source": [
        "average = []\n",
        "sum = 0\n",
        "\n",
        "for i in faker_length:\n",
        "  sum = sum+i\n",
        "  avg = (faker_total_likes[sum-1] - faker_total_likes[sum-i])/(faker_convert_time[sum-1] - faker_convert_time[sum-i]).seconds*60\n",
        "  average.append(avg)\n",
        "\n",
        "faker_avg = np.mean(average)\n",
        "total_avg['faker'] = faker_avg\n",
        "print(\"faker 좋아요 증가율:\",faker_avg)"
      ],
      "execution_count": 0,
      "outputs": [
        {
          "output_type": "stream",
          "text": [
            "faker 좋아요 증가율: 0.9112518087992625\n"
          ],
          "name": "stdout"
        }
      ]
    },
    {
      "cell_type": "code",
      "metadata": {
        "id": "LVNj84bOhuzr",
        "colab_type": "code",
        "colab": {}
      },
      "source": [
        "# 팀: kespa\n",
        "ke_dic = {} # 딕셔너리\n",
        "ke_key = [] # 리스트\n",
        "\n",
        "for root, dirs, files in os.walk('/content/drive/My Drive/grad_data/data/data/kespa'):\n",
        "    for fname in files:\n",
        "      if fname.endswith(\".json\"): #끝이 \".json\"로 끝나는 경우\n",
        "        full_fname = os.path.join(root, fname)\n",
        "        ke_key.append(fname)\n",
        "        \n",
        "        with open(full_fname) as json_file:\n",
        "          json_data = json.load(json_file)\n",
        "          ke_dic[fname] = json_data\n",
        "        \n",
        "ke_key.sort() #  리스트 오름차순 정렬"
      ],
      "execution_count": 0,
      "outputs": []
    },
    {
      "cell_type": "code",
      "metadata": {
        "id": "d3PggIURZSNZ",
        "colab_type": "code",
        "outputId": "4ead1d17-0e4e-43b7-9834-fc896f357b26",
        "colab": {
          "base_uri": "https://localhost:8080/",
          "height": 457
        }
      },
      "source": [
        "ke_total_likes = []\n",
        "ke_convert_time = []\n",
        "ke_length = []\n",
        "\n",
        "for name in ke_key:\n",
        "  values = ke_dic[name]['results'][0]['series'][0]['values']\n",
        "  \n",
        "  # total_likes: 주어진 데이터의 2번째 value들\n",
        "  length = len(values)\n",
        "  ke_length.append(length)\n",
        "  print(name, \":\", length)\n",
        "  \n",
        "  for i in range(0,length):\n",
        "      ke_total_likes.append(values[i][2])\n",
        "  \n",
        "  # conver_times: 주어진 데이터의 0번째 value들\n",
        "  for i in range(0, length):\n",
        "      ke_convert_time.append(datetime.datetime.strptime(values[i][0][:19],\"%Y-%m-%dT%H:%M:%S\"))  "
      ],
      "execution_count": 0,
      "outputs": [
        {
          "output_type": "stream",
          "text": [
            "kespa_20190605.json : 12\n",
            "kespa_20190606.json : 12\n",
            "kespa_20190607.json : 12\n",
            "kespa_20190608.json : 12\n",
            "kespa_20190609.json : 12\n",
            "kespa_20190610.json : 12\n",
            "kespa_20190611.json : 12\n",
            "kespa_20190612.json : 45\n",
            "kespa_20190613.json : 144\n",
            "kespa_20190614.json : 144\n",
            "kespa_20190615.json : 144\n",
            "kespa_20190616.json : 144\n",
            "kespa_20190617.json : 144\n",
            "kespa_20190618.json : 144\n",
            "kespa_20190619.json : 144\n",
            "kespa_20190620.json : 730\n",
            "kespa_20190621.json : 437\n",
            "kespa_20190624.json : 437\n",
            "kespa_20190625.json : 437\n",
            "kespa_20190627.json : 437\n",
            "kespa_20190701.json : 437\n",
            "kespa_20190703.json : 437\n",
            "kespa_20190704.json : 437\n",
            "kespa_20190705.json : 437\n",
            "kespa_20190706.json : 437\n"
          ],
          "name": "stdout"
        }
      ]
    },
    {
      "cell_type": "code",
      "metadata": {
        "id": "wGmXMN3MZUqJ",
        "colab_type": "code",
        "colab": {}
      },
      "source": [
        "# total_likes2 = total_likes의 차이값들(하루 단위)\n",
        "ke_total_likes2 = []\n",
        "ke_differences = []\n",
        "ke_date = []\n",
        "for name in ke_key:\n",
        "  values = ke_dic[name]['results'][0]['series'][0]['values']\n",
        "  length = len(values)  \n",
        "  ke_total_likes2.append(values[length-1][2])\n",
        "  ke_date.append(datetime.datetime.strptime(values[0][0][:10],\"%Y-%m-%d\"))    \n",
        "\n",
        "for i in range(0,len(ke_date)-1):\n",
        "  ke_differences.append(ke_total_likes2[i+1]-ke_total_likes2[i])"
      ],
      "execution_count": 0,
      "outputs": []
    },
    {
      "cell_type": "code",
      "metadata": {
        "id": "nakwJAGvh_fp",
        "colab_type": "code",
        "outputId": "6cd87baa-a8bb-478a-f63a-631548f514e2",
        "colab": {
          "base_uri": "https://localhost:8080/",
          "height": 649
        }
      },
      "source": [
        "# 시간에 따른 total likes 값들 시각화\n",
        "fig = plt.figure()\n",
        "ax = plt.subplot(1, 1, 1)\n",
        "\n",
        "plt.plot(ke_convert_time, ke_total_likes)\n",
        "plt.title('Kespa')\n",
        "plt.xlabel('Time')\n",
        "plt.ylabel('Total Likes')\n",
        "for label in ax.xaxis.get_ticklabels() :\n",
        "    label.set_rotation(45)\n",
        "plt.gca().xaxis.set_major_formatter(mdates.DateFormatter('%Y-%m-%d'))\n",
        "plt.show()\n",
        "\n",
        "# 시간에 따른 total likes 차이값들 시각화(막대그래프)\n",
        "fig = plt.figure()\n",
        "ax = plt.subplot(1, 1, 1)\n",
        "\n",
        "bar_graph = plt.bar(ke_date[1:], ke_differences, align='edge', edgecolor='black')\n",
        "plt.title('Kespa')\n",
        "plt.xlabel('Date')\n",
        "plt.ylabel('Difference of Likes')\n",
        "for label in ax.xaxis.get_ticklabels() :\n",
        "    label.set_rotation(45)\n",
        "plt.gca().xaxis.set_major_formatter(mdates.DateFormatter('%Y-%m-%d'))\n",
        "ax.set_axisbelow(True)\n",
        "plt.grid(True)\n",
        "plt.show()"
      ],
      "execution_count": 0,
      "outputs": [
        {
          "output_type": "display_data",
          "data": {
            "image/png": "[encoded data removed]",
            "text/plain": [
              "<Figure size 432x288 with 1 Axes>"
            ]
          },
          "metadata": {
            "tags": []
          }
        },
        {
          "output_type": "display_data",
          "data": {
            "image/png": "[encoded data removed]",
            "text/plain": [
              "<Figure size 432x288 with 1 Axes>"
            ]
          },
          "metadata": {
            "tags": []
          }
        }
      ]
    },
    {
      "cell_type": "code",
      "metadata": {
        "id": "BMexYHQfiWho",
        "colab_type": "code",
        "outputId": "23489306-eed8-4e15-b041-17c40a66cbb2",
        "colab": {
          "base_uri": "https://localhost:8080/",
          "height": 34
        }
      },
      "source": [
        "average = []\n",
        "sum = 0\n",
        "\n",
        "for i in ke_length:\n",
        "  sum = sum+i\n",
        "  avg = (ke_total_likes[sum-1] - ke_total_likes[sum-i])/(ke_convert_time[sum-1] - ke_convert_time[sum-i]).seconds*60\n",
        "  average.append(avg)\n",
        "\n",
        "ke_avg = np.mean(average)\n",
        "total_avg['kespa'] = ke_avg\n",
        "print(\"kespa 좋아요 증가율:\",ke_avg)"
      ],
      "execution_count": 0,
      "outputs": [
        {
          "output_type": "stream",
          "text": [
            "kespa 좋아요 증가율: 0.03334752727366862\n"
          ],
          "name": "stdout"
        }
      ]
    },
    {
      "cell_type": "code",
      "metadata": {
        "id": "uiRklcb6tkEq",
        "colab_type": "code",
        "colab": {}
      },
      "source": [
        "# 내림차순 정렬\n",
        "# 딕셔너리 -> 튜플\n",
        "sort_avg = sorted(total_avg.items(), key=lambda x: x[1], reverse=True)"
      ],
      "execution_count": 0,
      "outputs": []
    },
    {
      "cell_type": "code",
      "metadata": {
        "id": "C324kZaBQ2qZ",
        "colab_type": "code",
        "outputId": "1369651a-9ec6-4572-8c65-bfc1e83c4f77",
        "colab": {
          "base_uri": "https://localhost:8080/",
          "height": 284
        }
      },
      "source": [
        "# 순위 확인을 위해서 Pandas에서 제공하는 dataframe을 활용\n",
        "import pandas as pd\n",
        "\n",
        "# 팔로우 수 고려X 좋아요 수 기준 순위\n",
        "df = pd.DataFrame(sort_avg, columns=['NAME', 'LIKES(per minute)'])\n",
        "df.index += 1\n",
        "df"
      ],
      "execution_count": 0,
      "outputs": [
        {
          "output_type": "execute_result",
          "data": {
            "text/html": [
              "<div>\n",
              "<style scoped>\n",
              "    .dataframe tbody tr th:only-of-type {\n",
              "        vertical-align: middle;\n",
              "    }\n",
              "\n",
              "    .dataframe tbody tr th {\n",
              "        vertical-align: top;\n",
              "    }\n",
              "\n",
              "    .dataframe thead th {\n",
              "        text-align: right;\n",
              "    }\n",
              "</style>\n",
              "<table border=\"1\" class=\"dataframe\">\n",
              "  <thead>\n",
              "    <tr style=\"text-align: right;\">\n",
              "      <th></th>\n",
              "      <th>NAME</th>\n",
              "      <th>LIKES(per minute)</th>\n",
              "    </tr>\n",
              "  </thead>\n",
              "  <tbody>\n",
              "    <tr>\n",
              "      <th>1</th>\n",
              "      <td>T1LoL</td>\n",
              "      <td>0.940678</td>\n",
              "    </tr>\n",
              "    <tr>\n",
              "      <th>2</th>\n",
              "      <td>faker</td>\n",
              "      <td>0.911252</td>\n",
              "    </tr>\n",
              "    <tr>\n",
              "      <th>3</th>\n",
              "      <td>Griffin</td>\n",
              "      <td>0.266356</td>\n",
              "    </tr>\n",
              "    <tr>\n",
              "      <th>4</th>\n",
              "      <td>GenG</td>\n",
              "      <td>0.192937</td>\n",
              "    </tr>\n",
              "    <tr>\n",
              "      <th>5</th>\n",
              "      <td>KINGZONEDX</td>\n",
              "      <td>0.095746</td>\n",
              "    </tr>\n",
              "    <tr>\n",
              "      <th>6</th>\n",
              "      <td>SBGaming_KOR</td>\n",
              "      <td>0.052648</td>\n",
              "    </tr>\n",
              "    <tr>\n",
              "      <th>7</th>\n",
              "      <td>JinAirGW</td>\n",
              "      <td>0.042351</td>\n",
              "    </tr>\n",
              "    <tr>\n",
              "      <th>8</th>\n",
              "      <td>kespa</td>\n",
              "      <td>0.033348</td>\n",
              "    </tr>\n",
              "  </tbody>\n",
              "</table>\n",
              "</div>"
            ],
            "text/plain": [
              "           NAME  LIKES(per minute)\n",
              "1         T1LoL           0.940678\n",
              "2         faker           0.911252\n",
              "3       Griffin           0.266356\n",
              "4          GenG           0.192937\n",
              "5    KINGZONEDX           0.095746\n",
              "6  SBGaming_KOR           0.052648\n",
              "7      JinAirGW           0.042351\n",
              "8         kespa           0.033348"
            ]
          },
          "metadata": {
            "tags": []
          },
          "execution_count": 44
        }
      ]
    },
    {
      "cell_type": "code",
      "metadata": {
        "id": "WsliBN6UXUS8",
        "colab_type": "code",
        "colab": {}
      },
      "source": [
        "# 팔로우 수 고려(대비) 좋아요 수 순위 구하기 위한 과정\n",
        "\n",
        "\n",
        "# 계정의 팔로우 수 수집\n",
        "import requests \n",
        "from requests_oauthlib import OAuth1\n",
        "import datetime\n",
        "import sys\n",
        "\n",
        "consumer_key = '''your consumer_key'''\n",
        "consumer_secret = '''your consumer_secret'''\n",
        "access_token = '''your access_token'''\n",
        "access_token_secret = '''your access_token_secret'''\n",
        "\n",
        "oauth = OAuth1(client_key=consumer_key, client_secret=consumer_secret, resource_owner_key=access_token, resource_owner_secret=access_token_secret)\n",
        "\n",
        "follower = {}\n",
        "team = ['faker', 'T1LoL', 'Griffin', 'GenG', 'DRXGlobal', 'SBGaming_KOR', 'JinAirGW', 'kespa']\n",
        "\n",
        "def get_information(twit_id):\n",
        "    url = 'https://api.twitter.com/1.1/statuses/user_timeline.json?screen_name={0}'.format(twit_id)\n",
        "    #url += '&count=70&since_id='+since_id\n",
        "    url+='&count=1'\n",
        "    r = requests.get(url=url, auth=oauth)\n",
        "    statuses = r.json()\n",
        "    \n",
        "    for status in statuses:\n",
        "      if twit_id == 'DRXGlobal':\n",
        "        twit_id = 'KINGZONEDX'\n",
        "      follower[twit_id] = status['user']['followers_count']\n",
        "\n",
        "for id in team:\n",
        "  get_information(id)\n"
      ],
      "execution_count": 0,
      "outputs": []
    },
    {
      "cell_type": "code",
      "metadata": {
        "id": "hEgdNl7rqI_k",
        "colab_type": "code",
        "colab": {}
      },
      "source": [
        "# 내림차순 정렬\n",
        "# 딕셔너리 -> 튜플\n",
        "follower = sorted(follower.items(), key=lambda x: x[1], reverse=True)"
      ],
      "execution_count": 0,
      "outputs": []
    },
    {
      "cell_type": "code",
      "metadata": {
        "id": "Ms24nfY-3_OR",
        "colab_type": "code",
        "outputId": "18b88083-88f5-459a-824f-a0c7b1ef3bd4",
        "colab": {
          "base_uri": "https://localhost:8080/",
          "height": 284
        }
      },
      "source": [
        "# 팔로우 수 고려(대비) 좋아요 수 기준 순위\n",
        "\n",
        "follower_df = pd.DataFrame(follower, columns=['NAME', 'FOLLOWER'])\n",
        "\n",
        "follower_df = pd.merge(follower_df,df, on=\"NAME\")\n",
        "follower_df.index += 1\n",
        "follower_df"
      ],
      "execution_count": 0,
      "outputs": [
        {
          "output_type": "execute_result",
          "data": {
            "text/html": [
              "<div>\n",
              "<style scoped>\n",
              "    .dataframe tbody tr th:only-of-type {\n",
              "        vertical-align: middle;\n",
              "    }\n",
              "\n",
              "    .dataframe tbody tr th {\n",
              "        vertical-align: top;\n",
              "    }\n",
              "\n",
              "    .dataframe thead th {\n",
              "        text-align: right;\n",
              "    }\n",
              "</style>\n",
              "<table border=\"1\" class=\"dataframe\">\n",
              "  <thead>\n",
              "    <tr style=\"text-align: right;\">\n",
              "      <th></th>\n",
              "      <th>NAME</th>\n",
              "      <th>FOLLOWER</th>\n",
              "      <th>LIKES(per minute)</th>\n",
              "    </tr>\n",
              "  </thead>\n",
              "  <tbody>\n",
              "    <tr>\n",
              "      <th>1</th>\n",
              "      <td>T1LoL</td>\n",
              "      <td>584454</td>\n",
              "      <td>0.940678</td>\n",
              "    </tr>\n",
              "    <tr>\n",
              "      <th>2</th>\n",
              "      <td>faker</td>\n",
              "      <td>217353</td>\n",
              "      <td>0.911252</td>\n",
              "    </tr>\n",
              "    <tr>\n",
              "      <th>3</th>\n",
              "      <td>KINGZONEDX</td>\n",
              "      <td>187476</td>\n",
              "      <td>0.095746</td>\n",
              "    </tr>\n",
              "    <tr>\n",
              "      <th>4</th>\n",
              "      <td>JinAirGW</td>\n",
              "      <td>149048</td>\n",
              "      <td>0.042351</td>\n",
              "    </tr>\n",
              "    <tr>\n",
              "      <th>5</th>\n",
              "      <td>kespa</td>\n",
              "      <td>50759</td>\n",
              "      <td>0.033348</td>\n",
              "    </tr>\n",
              "    <tr>\n",
              "      <th>6</th>\n",
              "      <td>GenG</td>\n",
              "      <td>31498</td>\n",
              "      <td>0.192937</td>\n",
              "    </tr>\n",
              "    <tr>\n",
              "      <th>7</th>\n",
              "      <td>Griffin</td>\n",
              "      <td>6879</td>\n",
              "      <td>0.266356</td>\n",
              "    </tr>\n",
              "    <tr>\n",
              "      <th>8</th>\n",
              "      <td>SBGaming_KOR</td>\n",
              "      <td>3383</td>\n",
              "      <td>0.052648</td>\n",
              "    </tr>\n",
              "  </tbody>\n",
              "</table>\n",
              "</div>"
            ],
            "text/plain": [
              "           NAME  FOLLOWER  LIKES(per minute)\n",
              "1         T1LoL    584454           0.940678\n",
              "2         faker    217353           0.911252\n",
              "3    KINGZONEDX    187476           0.095746\n",
              "4      JinAirGW    149048           0.042351\n",
              "5         kespa     50759           0.033348\n",
              "6          GenG     31498           0.192937\n",
              "7       Griffin      6879           0.266356\n",
              "8  SBGaming_KOR      3383           0.052648"
            ]
          },
          "metadata": {
            "tags": []
          },
          "execution_count": 47
        }
      ]
    }
  ]
}